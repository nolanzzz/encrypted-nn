{
 "cells": [
  {
   "cell_type": "code",
   "execution_count": 1,
   "id": "italic-kentucky",
   "metadata": {},
   "outputs": [],
   "source": [
    "import torch\n",
    "import torch.nn as nn\n",
    "from torchvision.transforms import transforms\n",
    "from torch.utils.data import DataLoader\n",
    "from torch.optim import Adam\n",
    "import torchvision\n",
    "import glob"
   ]
  },
  {
   "cell_type": "code",
   "execution_count": 2,
   "id": "female-claim",
   "metadata": {},
   "outputs": [],
   "source": [
    "classes = ['f','j','k','l','m','n','o','x','y','z']\n",
    "\n",
    "transformer = transforms.Compose([\n",
    "    transforms.ToTensor(),\n",
    "    transforms.Normalize([0.5,0.5,0.5],\n",
    "                        [0.5,0.5,0.5])\n",
    "])\n",
    "\n",
    "test_path = 'data_letters/test'\n",
    "\n",
    "dataloader = DataLoader(\n",
    "    torchvision.datasets.ImageFolder(test_path, transform=transformer),\n",
    "    batch_size = 256,\n",
    "    shuffle = False\n",
    ")"
   ]
  },
  {
   "cell_type": "code",
   "execution_count": 3,
   "id": "about-liechtenstein",
   "metadata": {},
   "outputs": [],
   "source": [
    "class Task1Net(nn.Module):\n",
    "    def __init__(self, num_classes=10):\n",
    "        super(Task1Net, self).__init__()\n",
    "        self.conv1 = nn.Conv2d(in_channels=3, out_channels=12, kernel_size=3, stride=1, padding=1)\n",
    "        self.bn1 = nn.BatchNorm2d(num_features=12)\n",
    "        self.relu1 = nn.ReLU()\n",
    "        self.pool = nn.MaxPool2d(kernel_size=2)\n",
    "        self.dropout = nn.Dropout(0.5)\n",
    "        self.conv2 = nn.Conv2d(in_channels=12, out_channels=20, kernel_size=3, stride=1, padding=1)\n",
    "        self.relu2 = nn.ReLU()\n",
    "        self.conv3 = nn.Conv2d(in_channels=20, out_channels=32, kernel_size=3, stride=1, padding=1)\n",
    "        self.bn3 = nn.BatchNorm2d(num_features=32)\n",
    "        self.relu3 = nn.ReLU()\n",
    "        self.fc = nn.Linear(in_features=32*32*32, out_features=num_classes)\n",
    "        \n",
    "    def forward(self, input):\n",
    "        output = self.conv1(input)\n",
    "        output = self.bn1(output)\n",
    "        output = self.relu1(output)\n",
    "        output = self.pool(output)\n",
    "        output = self.dropout(output)\n",
    "        output = self.conv2(output)\n",
    "        output = self.relu2(output)\n",
    "        output = self.conv3(output)\n",
    "        output = self.bn3(output)\n",
    "        output = self.relu3(output)\n",
    "        output = output.view(-1, 32*32*32)\n",
    "        output = self.fc(output)\n",
    "        return output"
   ]
  },
  {
   "cell_type": "code",
   "execution_count": 4,
   "id": "earned-processor",
   "metadata": {},
   "outputs": [
    {
     "name": "stdout",
     "output_type": "stream",
     "text": [
      "Accuracy: 83.04%\n"
     ]
    }
   ],
   "source": [
    "# model = Task1Net(num_classes=10)\n",
    "model = torchvision.models.resnet34(pretrained=False)\n",
    "inchannel = model.fc.in_features\n",
    "model.fc = nn.Linear(inchannel, 10)\n",
    "best_model = torch.load('model/task1.model')\n",
    "model.load_state_dict(best_model, strict=False)\n",
    "count = len(glob.glob(test_path + '/**/*.bmp'))\n",
    "model.eval()\n",
    "\n",
    "sum_accuracy = 0.0\n",
    "for i, (images, labels) in enumerate(dataloader):\n",
    "    if torch.cuda.is_available():\n",
    "        images = Variables(images.cuda())\n",
    "        labels = Variables(images.cuda())\n",
    "    outputs = model(images)\n",
    "    _,prediction = torch.max(outputs.data,1)\n",
    "    sum_accuracy += int(torch.sum(prediction==labels.data))\n",
    "\n",
    "accuracy = sum_accuracy / count\n",
    "\n",
    "print('Accuracy: ' + str(round(accuracy*100,2)) + '%')"
   ]
  }
 ],
 "metadata": {
  "kernelspec": {
   "display_name": "Python 3",
   "language": "python",
   "name": "python3"
  },
  "language_info": {
   "codemirror_mode": {
    "name": "ipython",
    "version": 3
   },
   "file_extension": ".py",
   "mimetype": "text/x-python",
   "name": "python",
   "nbconvert_exporter": "python",
   "pygments_lexer": "ipython3",
   "version": "3.8.8"
  }
 },
 "nbformat": 4,
 "nbformat_minor": 5
}
