{
  "nbformat": 4,
  "nbformat_minor": 5,
  "metadata": {
    "kernelspec": {
      "display_name": "Python 3",
      "language": "python",
      "name": "python3"
    },
    "language_info": {
      "codemirror_mode": {
        "name": "ipython",
        "version": 3
      },
      "file_extension": ".py",
      "mimetype": "text/x-python",
      "name": "python",
      "nbconvert_exporter": "python",
      "pygments_lexer": "ipython3",
      "version": "3.8.8"
    },
    "colab": {
      "name": "Copy of test.ipynb",
      "provenance": []
    },
    "accelerator": "GPU",
    "widgets": {
      "application/vnd.jupyter.widget-state+json": {
        "00dd4b6eeba34c60b82a96557e690376": {
          "model_module": "@jupyter-widgets/controls",
          "model_name": "HBoxModel",
          "state": {
            "_view_name": "HBoxView",
            "_dom_classes": [],
            "_model_name": "HBoxModel",
            "_view_module": "@jupyter-widgets/controls",
            "_model_module_version": "1.5.0",
            "_view_count": null,
            "_view_module_version": "1.5.0",
            "box_style": "",
            "layout": "IPY_MODEL_6a88feaa9ce443b7ae27a674ea16a83c",
            "_model_module": "@jupyter-widgets/controls",
            "children": [
              "IPY_MODEL_9900d5f4b5844131bf3f91ce539be3c9",
              "IPY_MODEL_75a7f413fb7c49d99453ee98afc0ac1c"
            ]
          }
        },
        "6a88feaa9ce443b7ae27a674ea16a83c": {
          "model_module": "@jupyter-widgets/base",
          "model_name": "LayoutModel",
          "state": {
            "_view_name": "LayoutView",
            "grid_template_rows": null,
            "right": null,
            "justify_content": null,
            "_view_module": "@jupyter-widgets/base",
            "overflow": null,
            "_model_module_version": "1.2.0",
            "_view_count": null,
            "flex_flow": null,
            "width": null,
            "min_width": null,
            "border": null,
            "align_items": null,
            "bottom": null,
            "_model_module": "@jupyter-widgets/base",
            "top": null,
            "grid_column": null,
            "overflow_y": null,
            "overflow_x": null,
            "grid_auto_flow": null,
            "grid_area": null,
            "grid_template_columns": null,
            "flex": null,
            "_model_name": "LayoutModel",
            "justify_items": null,
            "grid_row": null,
            "max_height": null,
            "align_content": null,
            "visibility": null,
            "align_self": null,
            "height": null,
            "min_height": null,
            "padding": null,
            "grid_auto_rows": null,
            "grid_gap": null,
            "max_width": null,
            "order": null,
            "_view_module_version": "1.2.0",
            "grid_template_areas": null,
            "object_position": null,
            "object_fit": null,
            "grid_auto_columns": null,
            "margin": null,
            "display": null,
            "left": null
          }
        },
        "9900d5f4b5844131bf3f91ce539be3c9": {
          "model_module": "@jupyter-widgets/controls",
          "model_name": "FloatProgressModel",
          "state": {
            "_view_name": "ProgressView",
            "style": "IPY_MODEL_aef21f3a118e4fcabcfd41c2060b6ca0",
            "_dom_classes": [],
            "description": "100%",
            "_model_name": "FloatProgressModel",
            "bar_style": "success",
            "max": 87306240,
            "_view_module": "@jupyter-widgets/controls",
            "_model_module_version": "1.5.0",
            "value": 87306240,
            "_view_count": null,
            "_view_module_version": "1.5.0",
            "orientation": "horizontal",
            "min": 0,
            "description_tooltip": null,
            "_model_module": "@jupyter-widgets/controls",
            "layout": "IPY_MODEL_d33991152ef147a7bfa2ad13f64952c5"
          }
        },
        "75a7f413fb7c49d99453ee98afc0ac1c": {
          "model_module": "@jupyter-widgets/controls",
          "model_name": "HTMLModel",
          "state": {
            "_view_name": "HTMLView",
            "style": "IPY_MODEL_f07abdeff0964368bffea6bfd57132e3",
            "_dom_classes": [],
            "description": "",
            "_model_name": "HTMLModel",
            "placeholder": "​",
            "_view_module": "@jupyter-widgets/controls",
            "_model_module_version": "1.5.0",
            "value": " 83.3M/83.3M [00:12&lt;00:00, 7.08MB/s]",
            "_view_count": null,
            "_view_module_version": "1.5.0",
            "description_tooltip": null,
            "_model_module": "@jupyter-widgets/controls",
            "layout": "IPY_MODEL_a844107ff01641f3bbab05376f41e4d6"
          }
        },
        "aef21f3a118e4fcabcfd41c2060b6ca0": {
          "model_module": "@jupyter-widgets/controls",
          "model_name": "ProgressStyleModel",
          "state": {
            "_view_name": "StyleView",
            "_model_name": "ProgressStyleModel",
            "description_width": "initial",
            "_view_module": "@jupyter-widgets/base",
            "_model_module_version": "1.5.0",
            "_view_count": null,
            "_view_module_version": "1.2.0",
            "bar_color": null,
            "_model_module": "@jupyter-widgets/controls"
          }
        },
        "d33991152ef147a7bfa2ad13f64952c5": {
          "model_module": "@jupyter-widgets/base",
          "model_name": "LayoutModel",
          "state": {
            "_view_name": "LayoutView",
            "grid_template_rows": null,
            "right": null,
            "justify_content": null,
            "_view_module": "@jupyter-widgets/base",
            "overflow": null,
            "_model_module_version": "1.2.0",
            "_view_count": null,
            "flex_flow": null,
            "width": null,
            "min_width": null,
            "border": null,
            "align_items": null,
            "bottom": null,
            "_model_module": "@jupyter-widgets/base",
            "top": null,
            "grid_column": null,
            "overflow_y": null,
            "overflow_x": null,
            "grid_auto_flow": null,
            "grid_area": null,
            "grid_template_columns": null,
            "flex": null,
            "_model_name": "LayoutModel",
            "justify_items": null,
            "grid_row": null,
            "max_height": null,
            "align_content": null,
            "visibility": null,
            "align_self": null,
            "height": null,
            "min_height": null,
            "padding": null,
            "grid_auto_rows": null,
            "grid_gap": null,
            "max_width": null,
            "order": null,
            "_view_module_version": "1.2.0",
            "grid_template_areas": null,
            "object_position": null,
            "object_fit": null,
            "grid_auto_columns": null,
            "margin": null,
            "display": null,
            "left": null
          }
        },
        "f07abdeff0964368bffea6bfd57132e3": {
          "model_module": "@jupyter-widgets/controls",
          "model_name": "DescriptionStyleModel",
          "state": {
            "_view_name": "StyleView",
            "_model_name": "DescriptionStyleModel",
            "description_width": "",
            "_view_module": "@jupyter-widgets/base",
            "_model_module_version": "1.5.0",
            "_view_count": null,
            "_view_module_version": "1.2.0",
            "_model_module": "@jupyter-widgets/controls"
          }
        },
        "a844107ff01641f3bbab05376f41e4d6": {
          "model_module": "@jupyter-widgets/base",
          "model_name": "LayoutModel",
          "state": {
            "_view_name": "LayoutView",
            "grid_template_rows": null,
            "right": null,
            "justify_content": null,
            "_view_module": "@jupyter-widgets/base",
            "overflow": null,
            "_model_module_version": "1.2.0",
            "_view_count": null,
            "flex_flow": null,
            "width": null,
            "min_width": null,
            "border": null,
            "align_items": null,
            "bottom": null,
            "_model_module": "@jupyter-widgets/base",
            "top": null,
            "grid_column": null,
            "overflow_y": null,
            "overflow_x": null,
            "grid_auto_flow": null,
            "grid_area": null,
            "grid_template_columns": null,
            "flex": null,
            "_model_name": "LayoutModel",
            "justify_items": null,
            "grid_row": null,
            "max_height": null,
            "align_content": null,
            "visibility": null,
            "align_self": null,
            "height": null,
            "min_height": null,
            "padding": null,
            "grid_auto_rows": null,
            "grid_gap": null,
            "max_width": null,
            "order": null,
            "_view_module_version": "1.2.0",
            "grid_template_areas": null,
            "object_position": null,
            "object_fit": null,
            "grid_auto_columns": null,
            "margin": null,
            "display": null,
            "left": null
          }
        }
      }
    }
  },
  "cells": [
    {
      "cell_type": "code",
      "metadata": {
        "id": "italic-kentucky"
      },
      "source": [
        "import torch\n",
        "import torch.nn as nn\n",
        "from torchvision.transforms import transforms\n",
        "from torch.utils.data import DataLoader\n",
        "from torch.optim import Adam\n",
        "import torchvision\n",
        "import glob"
      ],
      "id": "italic-kentucky",
      "execution_count": 1,
      "outputs": []
    },
    {
      "cell_type": "code",
      "metadata": {
        "colab": {
          "base_uri": "https://localhost:8080/"
        },
        "id": "yllHf5TEIijK",
        "outputId": "5146c8ff-0048-4dc1-c756-b1c1eaad0fbc"
      },
      "source": [
        "from google.colab import drive\n",
        "drive.mount('/content/drive')"
      ],
      "id": "yllHf5TEIijK",
      "execution_count": 1,
      "outputs": [
        {
          "output_type": "stream",
          "text": [
            "Mounted at /content/drive\n"
          ],
          "name": "stdout"
        }
      ]
    },
    {
      "cell_type": "code",
      "metadata": {
        "id": "yC9tJTPgPWho"
      },
      "source": [
        "# !unzip '/content/drive/MyDrive/data_letters.zip' -d '/content/drive/MyDrive/data'"
      ],
      "id": "yC9tJTPgPWho",
      "execution_count": null,
      "outputs": []
    },
    {
      "cell_type": "code",
      "metadata": {
        "id": "female-claim"
      },
      "source": [
        "classes = ['f','j','k','l','m','n','o','x','y','z']\n",
        "\n",
        "transformer = transforms.Compose([\n",
        "    transforms.ToTensor(),\n",
        "    transforms.Normalize([0.5,0.5,0.5],\n",
        "                        [0.5,0.5,0.5])\n",
        "])\n",
        "\n",
        "test_path = '/content/drive/MyDrive/data/data_letters/test'\n",
        "\n",
        "dataset = torchvision.datasets.ImageFolder(test_path, transform=transformer)\n",
        "\n",
        "dataloader = DataLoader(\n",
        "    dataset,\n",
        "    batch_size = 256,\n",
        "    shuffle = False\n",
        ")"
      ],
      "id": "female-claim",
      "execution_count": 4,
      "outputs": []
    },
    {
      "cell_type": "code",
      "metadata": {
        "id": "about-liechtenstein"
      },
      "source": [
        "class Task1Net(nn.Module):\n",
        "    def __init__(self, num_classes=10):\n",
        "        super(Task1Net, self).__init__()\n",
        "        self.conv1 = nn.Conv2d(in_channels=3, out_channels=12, kernel_size=3, stride=1, padding=1)\n",
        "        self.bn1 = nn.BatchNorm2d(num_features=12)\n",
        "        self.relu1 = nn.ReLU()\n",
        "        self.pool = nn.MaxPool2d(kernel_size=2)\n",
        "        self.dropout = nn.Dropout(0.5)\n",
        "        self.conv2 = nn.Conv2d(in_channels=12, out_channels=20, kernel_size=3, stride=1, padding=1)\n",
        "        self.relu2 = nn.ReLU()\n",
        "        self.conv3 = nn.Conv2d(in_channels=20, out_channels=32, kernel_size=3, stride=1, padding=1)\n",
        "        self.bn3 = nn.BatchNorm2d(num_features=32)\n",
        "        self.relu3 = nn.ReLU()\n",
        "        self.fc = nn.Linear(in_features=32*32*32, out_features=num_classes)\n",
        "        \n",
        "    def forward(self, input):\n",
        "        output = self.conv1(input)\n",
        "        output = self.bn1(output)\n",
        "        output = self.relu1(output)\n",
        "        output = self.pool(output)\n",
        "        output = self.dropout(output)\n",
        "        output = self.conv2(output)\n",
        "        output = self.relu2(output)\n",
        "        output = self.conv3(output)\n",
        "        output = self.bn3(output)\n",
        "        output = self.relu3(output)\n",
        "        output = output.view(-1, 32*32*32)\n",
        "        output = self.fc(output)\n",
        "        return output"
      ],
      "id": "about-liechtenstein",
      "execution_count": null,
      "outputs": []
    },
    {
      "cell_type": "code",
      "metadata": {
        "id": "earned-processor",
        "colab": {
          "base_uri": "https://localhost:8080/",
          "height": 117,
          "referenced_widgets": [
            "00dd4b6eeba34c60b82a96557e690376",
            "6a88feaa9ce443b7ae27a674ea16a83c",
            "9900d5f4b5844131bf3f91ce539be3c9",
            "75a7f413fb7c49d99453ee98afc0ac1c",
            "aef21f3a118e4fcabcfd41c2060b6ca0",
            "d33991152ef147a7bfa2ad13f64952c5",
            "f07abdeff0964368bffea6bfd57132e3",
            "a844107ff01641f3bbab05376f41e4d6"
          ]
        },
        "outputId": "803c6209-3a4e-4cb9-ab8c-6b1c7d2b6afd"
      },
      "source": [
        "device = torch.device('cuda' if torch.cuda.is_available() else 'cpu')\n",
        "print(device)\n",
        "# model = Task1Net(num_classes=10)\n",
        "model = torchvision.models.resnet34(pretrained=True)\n",
        "inchannel = model.fc.in_features\n",
        "model.fc = nn.Linear(inchannel, 10)\n",
        "best_model = torch.load('/content/drive/MyDrive/model/task1.model')\n",
        "model.load_state_dict(best_model, strict=False)\n",
        "model.to(device)\n",
        "count = len(dataset)\n",
        "model.eval()\n",
        "\n",
        "sum_accuracy = 0.0\n",
        "for i, (images, labels) in enumerate(dataloader):\n",
        "    if torch.cuda.is_available():\n",
        "        images = images.to(device)\n",
        "        labels = labels.to(device)\n",
        "    outputs = model(images)\n",
        "    _,prediction = torch.max(outputs.data,1)\n",
        "    sum_accuracy += int(torch.sum(prediction==labels.data))\n",
        "\n",
        "accuracy = sum_accuracy / count\n",
        "\n",
        "print('Accuracy: ' + str(round(accuracy*100,2)) + '%')"
      ],
      "id": "earned-processor",
      "execution_count": 5,
      "outputs": [
        {
          "output_type": "stream",
          "text": [
            "cuda\n"
          ],
          "name": "stdout"
        },
        {
          "output_type": "stream",
          "text": [
            "Downloading: \"https://download.pytorch.org/models/resnet34-333f7ec4.pth\" to /root/.cache/torch/hub/checkpoints/resnet34-333f7ec4.pth\n"
          ],
          "name": "stderr"
        },
        {
          "output_type": "display_data",
          "data": {
            "application/vnd.jupyter.widget-view+json": {
              "model_id": "00dd4b6eeba34c60b82a96557e690376",
              "version_minor": 0,
              "version_major": 2
            },
            "text/plain": [
              "HBox(children=(FloatProgress(value=0.0, max=87306240.0), HTML(value='')))"
            ]
          },
          "metadata": {
            "tags": []
          }
        },
        {
          "output_type": "stream",
          "text": [
            "\n",
            "Accuracy: 83.67%\n"
          ],
          "name": "stdout"
        }
      ]
    }
  ]
}