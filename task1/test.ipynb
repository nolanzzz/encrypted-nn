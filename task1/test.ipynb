{
 "cells": [
  {
   "cell_type": "code",
   "execution_count": 27,
   "metadata": {},
   "outputs": [],
   "source": [
    "import torch\n",
    "import torch.nn as nn\n",
    "from torchvision.transforms import transforms\n",
    "from torch.utils.data import DataLoader\n",
    "from torch.optim import Adam\n",
    "import torchvision\n",
    "import glob\n",
    "import torch.nn.functional as F"
   ]
  },
  {
   "cell_type": "code",
   "execution_count": 28,
   "metadata": {},
   "outputs": [],
   "source": [
    "classes = ['f','j','k','l','m','n','o','x','y','z']\n",
    "\n",
    "transformer = transforms.Compose([\n",
    "    transforms.ToTensor(),\n",
    "    transforms.Normalize([0.5,0.5,0.5],\n",
    "                        [0.5,0.5,0.5])\n",
    "])\n",
    "\n",
    "test_path = 'data_letters/test'\n",
    "\n",
    "dataset = torchvision.datasets.ImageFolder(test_path, transform=transformer)\n",
    "\n",
    "dataloader = DataLoader(\n",
    "    dataset,\n",
    "    batch_size = 256,\n",
    "    shuffle = False\n",
    ")"
   ]
  },
  {
   "cell_type": "code",
   "execution_count": 31,
   "metadata": {},
   "outputs": [],
   "source": [
    "class Task1Res(nn.Module):\n",
    "    def __init__(self, in_channel, out_channel, stride=1):\n",
    "        super(Task1Res, self).__init__()\n",
    "        self.conv = nn.Sequential(\n",
    "            nn.Conv2d(in_channel, out_channel, kernel_size=3, stride=stride, padding=1, bias=False),\n",
    "            nn.BatchNorm2d(out_channel),\n",
    "            nn.ReLU(inplace=True),\n",
    "            nn.Conv2d(out_channel, out_channel, kernel_size=3, stride=1, padding=1, bias=False),\n",
    "            nn.BatchNorm2d(out_channel)\n",
    "        )\n",
    "        self.shortcut = nn.Sequential()\n",
    "        if in_channel != out_channel:\n",
    "            self.shortcut = nn.Sequential(\n",
    "                nn.Conv2d(in_channel, out_channel, kernel_size=1, stride=stride, bias=False),\n",
    "                nn.BatchNorm2d(out_channel)\n",
    "            )\n",
    "\n",
    "    def forward(self, x):\n",
    "        out = self.conv(x)\n",
    "        out += self.shortcut(x)\n",
    "        out = F.relu(out)\n",
    "        return out\n",
    "\n",
    "class Task1Net(nn.Module):\n",
    "    def __init__(self, Task1Res, num_classes=10):\n",
    "        super(Task1Net, self).__init__()\n",
    "        self.in_channel = 64\n",
    "        self.conv1 = nn.Sequential(\n",
    "            nn.Conv2d(3, 64, kernel_size=3, stride=1, padding=1, bias=False),\n",
    "            nn.BatchNorm2d(64),\n",
    "            nn.ReLU(),\n",
    "        )\n",
    "        self.conv2 = self.layer(Task1Res, 64,  2, stride=1)\n",
    "        self.fc = nn.Linear(in_features=64*16*16, out_features=num_classes)\n",
    "\n",
    "    def layer(self, block, channels, num_blocks, stride):\n",
    "#         strides = [stride] + [1] * (num_blocks - 1)   #strides=[1,1]\n",
    "        layers = []\n",
    "        layers.append(block(self.in_channel, channels, stride))\n",
    "        layers.append(block(self.in_channel, channels, stride))\n",
    "#         for stride in strides:\n",
    "#             layers.append(block(self.in_channel, channels, stride))\n",
    "#             self.in_channel = channels\n",
    "        return nn.Sequential(*layers)\n",
    "\n",
    "    def forward(self, x):\n",
    "        out = self.conv1(x)\n",
    "        out = self.conv2(out)\n",
    "        out = F.avg_pool2d(out, 4)\n",
    "        out = out.view(out.size(0), -1)\n",
    "        out = self.fc(out)\n",
    "        return out\n",
    "\n",
    "def MyNet():\n",
    "    return Task1Net(Task1Res)"
   ]
  },
  {
   "cell_type": "code",
   "execution_count": 34,
   "metadata": {},
   "outputs": [
    {
     "name": "stdout",
     "output_type": "stream",
     "text": [
      "Accuracy:  0.798733604703754\n"
     ]
    }
   ],
   "source": [
    "device = torch.device('cuda' if torch.cuda.is_available() else 'cpu')\n",
    "model = MyNet()\n",
    "# model = torchvision.models.resnet34(pretrained=True)\n",
    "# inchannel = model.fc.in_features\n",
    "# model.fc = nn.Linear(inchannel, 10)\n",
    "best_model = torch.load('model/task1-adam-decay.model')\n",
    "model.load_state_dict(best_model, strict=False)\n",
    "model.to(device)\n",
    "count = len(dataset)\n",
    "model.eval()\n",
    "\n",
    "sum_accuracy = 0.0\n",
    "for i, (images, labels) in enumerate(dataloader):\n",
    "    if torch.cuda.is_available():\n",
    "        images = images.to(device)\n",
    "        labels = labels.to(device)\n",
    "    outputs = model(images)\n",
    "    _,prediction = torch.max(outputs.data,1)\n",
    "    sum_accuracy += int(torch.sum(prediction==labels.data))\n",
    "\n",
    "accuracy = sum_accuracy / count\n",
    "\n",
    "print(f'Accuracy: ', accuracy)"
   ]
  }
 ],
 "metadata": {
  "kernelspec": {
   "display_name": "Python 3",
   "language": "python",
   "name": "python3"
  },
  "language_info": {
   "codemirror_mode": {
    "name": "ipython",
    "version": 3
   },
   "file_extension": ".py",
   "mimetype": "text/x-python",
   "name": "python",
   "nbconvert_exporter": "python",
   "pygments_lexer": "ipython3",
   "version": "3.8.5"
  }
 },
 "nbformat": 4,
 "nbformat_minor": 5
}
