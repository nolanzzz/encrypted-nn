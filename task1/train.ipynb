{
  "nbformat": 4,
  "nbformat_minor": 5,
  "metadata": {
    "kernelspec": {
      "display_name": "Python 3",
      "language": "python",
      "name": "python3"
    },
    "language_info": {
      "codemirror_mode": {
        "name": "ipython",
        "version": 3
      },
      "file_extension": ".py",
      "mimetype": "text/x-python",
      "name": "python",
      "nbconvert_exporter": "python",
      "pygments_lexer": "ipython3",
      "version": "3.8.8"
    },
    "colab": {
      "name": "Copy of train.ipynb",
      "provenance": [],
      "collapsed_sections": [],
      "toc_visible": true
    },
    "accelerator": "GPU"
  },
  "cells": [
    {
      "cell_type": "code",
      "metadata": {
        "id": "equipped-briefs"
      },
      "source": [
        "import torch\n",
        "import torch.nn as nn\n",
        "from torchvision.transforms import transforms\n",
        "from torch.utils.data import DataLoader\n",
        "from torch.optim import Adam\n",
        "import torchvision\n",
        "import glob\n",
        "from torch.utils.data import random_split, Subset"
      ],
      "id": "equipped-briefs",
      "execution_count": 20,
      "outputs": []
    },
    {
      "cell_type": "code",
      "metadata": {
        "colab": {
          "base_uri": "https://localhost:8080/"
        },
        "id": "EF3sGRH3UNkE",
        "outputId": "2ac34453-f8cb-49d3-b061-200ea3fa2f35"
      },
      "source": [
        "from google.colab import drive\n",
        "drive.mount('/content/drive')"
      ],
      "id": "EF3sGRH3UNkE",
      "execution_count": 21,
      "outputs": [
        {
          "output_type": "stream",
          "text": [
            "Drive already mounted at /content/drive; to attempt to forcibly remount, call drive.mount(\"/content/drive\", force_remount=True).\n"
          ],
          "name": "stdout"
        }
      ]
    },
    {
      "cell_type": "code",
      "metadata": {
        "id": "unavailable-mentor"
      },
      "source": [
        "classes = ['f','j','k','l','m','n','o','x','y','z']\n",
        "\n",
        "transformer = transforms.Compose([\n",
        "    transforms.ToTensor(),\n",
        "    transforms.RandomHorizontalFlip(),\n",
        "    transforms.Normalize([0.5,0.5,0.5],\n",
        "                        [0.5,0.5,0.5])\n",
        "])\n",
        "\n",
        "train_path = '/content/drive/MyDrive/data/data_letters/train'\n",
        "\n",
        "train_data = torchvision.datasets.ImageFolder(train_path, transform=transformer)"
      ],
      "id": "unavailable-mentor",
      "execution_count": 23,
      "outputs": []
    },
    {
      "cell_type": "code",
      "metadata": {
        "colab": {
          "base_uri": "https://localhost:8080/"
        },
        "id": "ZCAC1NRJ82tU",
        "outputId": "b97b6dc6-71f8-4150-d268-0e4f80dad029"
      },
      "source": [
        "train_ratio = 0.8\r\n",
        "train_size= int(train_ratio * len(train_data))\r\n",
        "val_size = len(train_data) - train_size\r\n",
        "train_set, val_set = random_split(train_data, [train_size, val_size])\r\n",
        "print(len(train_set))\r\n",
        "print(len(val_set))"
      ],
      "id": "ZCAC1NRJ82tU",
      "execution_count": 26,
      "outputs": [
        {
          "output_type": "stream",
          "text": [
            "8432\n",
            "2109\n"
          ],
          "name": "stdout"
        }
      ]
    },
    {
      "cell_type": "code",
      "metadata": {
        "id": "KuTELxPt81vv"
      },
      "source": [
        "trainloader = DataLoader(\r\n",
        "    train_set,\r\n",
        "    batch_size = 256,\r\n",
        "    shuffle = True\r\n",
        ")\r\n",
        "\r\n",
        "valloader = DataLoader(\r\n",
        "    val_set,\r\n",
        "    batch_size = 256,\r\n",
        "    shuffle = True\r\n",
        ")"
      ],
      "id": "KuTELxPt81vv",
      "execution_count": 28,
      "outputs": []
    },
    {
      "cell_type": "code",
      "metadata": {
        "id": "paperback-jacket"
      },
      "source": [
        "class Task1Net(nn.Module):\n",
        "    def __init__(self, num_classes=10):\n",
        "        super(Task1Net, self).__init__()\n",
        "        self.conv1 = nn.Conv2d(in_channels=3, out_channels=12, kernel_size=3, stride=1, padding=1)\n",
        "        self.bn1 = nn.BatchNorm2d(num_features=12)\n",
        "        self.relu1 = nn.ReLU()\n",
        "        self.pool = nn.MaxPool2d(kernel_size=2)\n",
        "        self.dropout = nn.Dropout(0.5)\n",
        "        self.conv2 = nn.Conv2d(in_channels=12, out_channels=20, kernel_size=3, stride=1, padding=1)\n",
        "        self.relu2 = nn.ReLU()\n",
        "        self.conv3 = nn.Conv2d(in_channels=20, out_channels=32, kernel_size=3, stride=1, padding=1)\n",
        "        self.bn3 = nn.BatchNorm2d(num_features=32)\n",
        "        self.relu3 = nn.ReLU()\n",
        "        self.fc = nn.Linear(in_features=32*32*32, out_features=num_classes)\n",
        "        \n",
        "    def forward(self, input):\n",
        "        output = self.conv1(input)\n",
        "        output = self.bn1(output)\n",
        "        output = self.relu1(output)\n",
        "        output = self.pool(output)\n",
        "        output = self.dropout(output)\n",
        "        output = self.conv2(output)\n",
        "        output = self.relu2(output)\n",
        "        output = self.conv3(output)\n",
        "        output = self.bn3(output)\n",
        "        output = self.relu3(output)\n",
        "        output = output.view(-1, 32*32*32)\n",
        "        output = self.fc(output)\n",
        "        return output"
      ],
      "id": "paperback-jacket",
      "execution_count": 4,
      "outputs": []
    },
    {
      "cell_type": "code",
      "metadata": {
        "colab": {
          "base_uri": "https://localhost:8080/"
        },
        "id": "550hJtmWvRnI",
        "outputId": "99851650-a3f1-423c-8b9a-9b5388a5b05b"
      },
      "source": [
        "device = torch.device('cuda' if torch.cuda.is_available() else 'cpu')\r\n",
        "print(device)\r\n",
        "model = torchvision.models.resnet34(pretrained=True)\r\n",
        "model.to(device)\r\n",
        "torch.save(model.state_dict(), '/content/drive/MyDrive/model/task1.model')"
      ],
      "id": "550hJtmWvRnI",
      "execution_count": 29,
      "outputs": [
        {
          "output_type": "stream",
          "text": [
            "cuda\n"
          ],
          "name": "stdout"
        }
      ]
    },
    {
      "cell_type": "code",
      "metadata": {
        "id": "thousand-truck",
        "colab": {
          "base_uri": "https://localhost:8080/"
        },
        "outputId": "510cb558-d966-4e4e-af01-2ce44f6cfe76"
      },
      "source": [
        "inchannel = model.fc.in_features\n",
        "model.fc = nn.Linear(inchannel, 10)\n",
        "\n",
        "optimizer = Adam(model.parameters(), lr=0.0001)\n",
        "loss_function = nn.CrossEntropyLoss()\n",
        "\n",
        "num_epoches = 15\n",
        "\n",
        "train_count = len(train_set)\n",
        "val_count = len(val_set)\n",
        "\n",
        "best_accuracy = 0.0\n",
        "\n",
        "hist = []\n",
        "\n",
        "for epoch in range(num_epoches):\n",
        "    model.to(device)\n",
        "    model.train()\n",
        "    train_accuracy = 0.0\n",
        "    train_loss = 0.0\n",
        "    for i, (images, labels) in enumerate(trainloader):\n",
        "        if torch.cuda.is_available():\n",
        "            images = images.to(device)\n",
        "            labels = labels.to(device)\n",
        "        \n",
        "        optimizer.zero_grad()\n",
        "        outputs = model(images)\n",
        "        loss = loss_function(outputs, labels)\n",
        "        loss.backward()\n",
        "        optimizer.step()\n",
        "        \n",
        "        train_loss += loss.cpu().data * images.size(0)\n",
        "        _, prediction = torch.max(outputs.data,1)\n",
        "        train_accuracy += int(torch.sum(prediction == labels.data))\n",
        "      \n",
        "    train_accuracy = train_accuracy / train_count\n",
        "    train_loss = train_loss/train_count\n",
        "    print(f\"train_accuracy {train_accuracy}\")\n",
        "    model.eval()\n",
        "    val_accuracy = 0.0\n",
        "    with torch.no_grad():\n",
        "        for j, (images, labels) in enumerate(valloader):\n",
        "            if torch.cuda.is_available():\n",
        "                images = images.to(device)\n",
        "                labels = labels.to(device)\n",
        "            outputs = model(images)\n",
        "            _,prediction = torch.max(outputs.data,1)\n",
        "            val_accuracy += int(torch.sum(prediction==labels.data))\n",
        "\n",
        "        val_accuracy = val_accuracy / val_count\n",
        "        print(f\"epoch {epoch}\")\n",
        "        print(f\"train_loss {train_loss}\")\n",
        "        print(f\"Train Accuracy {train_accuracy}\")\n",
        "        print(f\"Val Accuracy {val_accuracy}\")\n",
        "\n",
        "        hist.append(val_accuracy)\n",
        "        if val_accuracy > best_accuracy:\n",
        "          print(f\"Best val accuracy {val_accuracy}\")\n",
        "          torch.save(model.state_dict(), '/content/drive/MyDrive/model/task1.model')\n",
        "          best_accuracy = val_accuracy"
      ],
      "id": "thousand-truck",
      "execution_count": 58,
      "outputs": [
        {
          "output_type": "stream",
          "text": [
            "train_accuracy 0.8237666034155597\n",
            "epoch 0\n",
            "train_loss 0.5485342741012573\n",
            "Train Accuracy 0.8237666034155597\n",
            "Val Accuracy 0.853959222380275\n",
            "Best val accuracy 0.853959222380275\n",
            "train_accuracy 0.8740512333965844\n",
            "epoch 1\n",
            "train_loss 0.3770177364349365\n",
            "Train Accuracy 0.8740512333965844\n",
            "Val Accuracy 0.8515884305357989\n",
            "train_accuracy 0.8948055028462998\n",
            "epoch 2\n",
            "train_loss 0.31392624974250793\n",
            "Train Accuracy 0.8948055028462998\n",
            "Val Accuracy 0.8582266477003319\n",
            "Best val accuracy 0.8582266477003319\n",
            "train_accuracy 0.907258064516129\n",
            "epoch 3\n",
            "train_loss 0.2807277739048004\n",
            "Train Accuracy 0.907258064516129\n",
            "Val Accuracy 0.8847795163584637\n",
            "Best val accuracy 0.8847795163584637\n",
            "train_accuracy 0.9239800759013282\n",
            "epoch 4\n",
            "train_loss 0.23213723301887512\n",
            "Train Accuracy 0.9239800759013282\n",
            "Val Accuracy 0.8591749644381224\n",
            "train_accuracy 0.9284867172675522\n",
            "epoch 5\n",
            "train_loss 0.2073179930448532\n",
            "Train Accuracy 0.9284867172675522\n",
            "Val Accuracy 0.8857278330962541\n",
            "Best val accuracy 0.8857278330962541\n",
            "train_accuracy 0.9340607210626186\n",
            "epoch 6\n",
            "train_loss 0.19121332466602325\n",
            "Train Accuracy 0.9340607210626186\n",
            "Val Accuracy 0.8824087245139877\n",
            "train_accuracy 0.948055028462998\n",
            "epoch 7\n",
            "train_loss 0.15276074409484863\n",
            "Train Accuracy 0.948055028462998\n",
            "Val Accuracy 0.8947368421052632\n",
            "Best val accuracy 0.8947368421052632\n",
            "train_accuracy 0.9514943074003795\n",
            "epoch 8\n",
            "train_loss 0.1448575109243393\n",
            "Train Accuracy 0.9514943074003795\n",
            "Val Accuracy 0.9004267425320057\n",
            "Best val accuracy 0.9004267425320057\n",
            "train_accuracy 0.9535104364326376\n",
            "epoch 9\n",
            "train_loss 0.14037172496318817\n",
            "Train Accuracy 0.9535104364326376\n",
            "Val Accuracy 0.9004267425320057\n",
            "train_accuracy 0.9651328273244781\n",
            "epoch 10\n",
            "train_loss 0.11098109930753708\n",
            "Train Accuracy 0.9651328273244781\n",
            "Val Accuracy 0.8933143669985776\n",
            "train_accuracy 0.963353889943074\n",
            "epoch 11\n",
            "train_loss 0.11198825389146805\n",
            "Train Accuracy 0.963353889943074\n",
            "Val Accuracy 0.9042200094831674\n",
            "Best val accuracy 0.9042200094831674\n",
            "train_accuracy 0.9686907020872866\n",
            "epoch 12\n",
            "train_loss 0.09105059504508972\n",
            "Train Accuracy 0.9686907020872866\n",
            "Val Accuracy 0.8743480322427691\n",
            "train_accuracy 0.969639468690702\n",
            "epoch 13\n",
            "train_loss 0.08698239177465439\n",
            "Train Accuracy 0.969639468690702\n",
            "Val Accuracy 0.9018492176386913\n",
            "train_accuracy 0.9766366223908919\n",
            "epoch 14\n",
            "train_loss 0.07210037112236023\n",
            "Train Accuracy 0.9766366223908919\n",
            "Val Accuracy 0.89900426742532\n"
          ],
          "name": "stdout"
        }
      ]
    },
    {
      "cell_type": "code",
      "metadata": {
        "id": "RyrppZIkdcR5"
      },
      "source": [
        "import matplotlib.pyplot as plt\r\n",
        "from google.colab.patches import cv2_imshow"
      ],
      "id": "RyrppZIkdcR5",
      "execution_count": 87,
      "outputs": []
    },
    {
      "cell_type": "code",
      "metadata": {
        "id": "PuZs8xhFecju"
      },
      "source": [
        "class Visualize(object):\r\n",
        "    def __call__(self, img):\r\n",
        "        cv2_imshow(img)\r\n",
        "        return img\r\n",
        "transformer_test = transforms.Compose([\r\n",
        "    transforms.CenterCrop(20),\r\n",
        "    Visualize(),\r\n",
        "    transforms.RandomRotation(20),\r\n",
        "    Visualize(),\r\n",
        "    transforms.RandomHorizontalFlip(),\r\n",
        "    Visualize(),\r\n",
        "    transforms.ToTensor(),\r\n",
        "    transforms.Normalize([0.5,0.5,0.5],\r\n",
        "                        [0.5,0.5,0.5])\r\n",
        "])\r\n",
        "# bala_data = torchvision.datasets.ImageFolder(train_path, transform=transformer_test)"
      ],
      "id": "PuZs8xhFecju",
      "execution_count": 89,
      "outputs": []
    },
    {
      "cell_type": "code",
      "metadata": {
        "id": "GMwTtla_gHNm"
      },
      "source": [
        "to_pil_image = transforms.ToPILImage()\r\n",
        "x = torch.randn(3, 256, 256)\r\n",
        "img = to_pil_image(x)\r\n",
        "out = transformer_test(img)"
      ],
      "id": "GMwTtla_gHNm",
      "execution_count": 83,
      "outputs": []
    },
    {
      "cell_type": "code",
      "metadata": {
        "colab": {
          "base_uri": "https://localhost:8080/",
          "height": 340
        },
        "id": "i3aas5pShG_L",
        "outputId": "39b5865d-2153-4f98-e4bb-6cf949b4676e"
      },
      "source": [
        "class Visualize(object):\r\n",
        "    def __call__(self, img):\r\n",
        "        cv2_imshow(img)\r\n",
        "        return img\r\n",
        "        \r\n",
        "spatial_transform = transforms.Compose([transforms.RandomRotation(20),\r\n",
        "                                        Visualize(),\r\n",
        "                                        transforms.RandomResizedCrop(224),\r\n",
        "                                        Visualize(),\r\n",
        "                                        transforms.RandomHorizontalFlip(),\r\n",
        "                                        Visualize(),\r\n",
        "                                        transforms.ColorJitter(hue=.05, saturation=.05),\r\n",
        "                                        Visualize(),\r\n",
        "                                        transforms.ToTensor(),\r\n",
        "                                        transforms.Normalize([0.485, 0.456, 0.406],[0.229, 0.224, 0.225])])\r\n",
        "\r\n",
        "\r\n",
        "to_pil_image = transforms.ToPILImage()\r\n",
        "x = torch.randn(3, 256, 256)\r\n",
        "img = to_pil_image(x)\r\n",
        "out = spatial_transform(img)"
      ],
      "id": "i3aas5pShG_L",
      "execution_count": 91,
      "outputs": [
        {
          "output_type": "error",
          "ename": "AttributeError",
          "evalue": "ignored",
          "traceback": [
            "\u001b[0;31m---------------------------------------------------------------------------\u001b[0m",
            "\u001b[0;31mAttributeError\u001b[0m                            Traceback (most recent call last)",
            "\u001b[0;32m<ipython-input-91-410a1055d746>\u001b[0m in \u001b[0;36m<module>\u001b[0;34m()\u001b[0m\n\u001b[1;32m     19\u001b[0m \u001b[0mx\u001b[0m \u001b[0;34m=\u001b[0m \u001b[0mtorch\u001b[0m\u001b[0;34m.\u001b[0m\u001b[0mrandn\u001b[0m\u001b[0;34m(\u001b[0m\u001b[0;36m3\u001b[0m\u001b[0;34m,\u001b[0m \u001b[0;36m256\u001b[0m\u001b[0;34m,\u001b[0m \u001b[0;36m256\u001b[0m\u001b[0;34m)\u001b[0m\u001b[0;34m\u001b[0m\u001b[0;34m\u001b[0m\u001b[0m\n\u001b[1;32m     20\u001b[0m \u001b[0mimg\u001b[0m \u001b[0;34m=\u001b[0m \u001b[0mto_pil_image\u001b[0m\u001b[0;34m(\u001b[0m\u001b[0mx\u001b[0m\u001b[0;34m)\u001b[0m\u001b[0;34m\u001b[0m\u001b[0;34m\u001b[0m\u001b[0m\n\u001b[0;32m---> 21\u001b[0;31m \u001b[0mout\u001b[0m \u001b[0;34m=\u001b[0m \u001b[0mspatial_transform\u001b[0m\u001b[0;34m(\u001b[0m\u001b[0mimg\u001b[0m\u001b[0;34m)\u001b[0m\u001b[0;34m\u001b[0m\u001b[0;34m\u001b[0m\u001b[0m\n\u001b[0m",
            "\u001b[0;32m/usr/local/lib/python3.7/dist-packages/torchvision/transforms/transforms.py\u001b[0m in \u001b[0;36m__call__\u001b[0;34m(self, img)\u001b[0m\n\u001b[1;32m     58\u001b[0m     \u001b[0;32mdef\u001b[0m \u001b[0m__call__\u001b[0m\u001b[0;34m(\u001b[0m\u001b[0mself\u001b[0m\u001b[0;34m,\u001b[0m \u001b[0mimg\u001b[0m\u001b[0;34m)\u001b[0m\u001b[0;34m:\u001b[0m\u001b[0;34m\u001b[0m\u001b[0;34m\u001b[0m\u001b[0m\n\u001b[1;32m     59\u001b[0m         \u001b[0;32mfor\u001b[0m \u001b[0mt\u001b[0m \u001b[0;32min\u001b[0m \u001b[0mself\u001b[0m\u001b[0;34m.\u001b[0m\u001b[0mtransforms\u001b[0m\u001b[0;34m:\u001b[0m\u001b[0;34m\u001b[0m\u001b[0;34m\u001b[0m\u001b[0m\n\u001b[0;32m---> 60\u001b[0;31m             \u001b[0mimg\u001b[0m \u001b[0;34m=\u001b[0m \u001b[0mt\u001b[0m\u001b[0;34m(\u001b[0m\u001b[0mimg\u001b[0m\u001b[0;34m)\u001b[0m\u001b[0;34m\u001b[0m\u001b[0;34m\u001b[0m\u001b[0m\n\u001b[0m\u001b[1;32m     61\u001b[0m         \u001b[0;32mreturn\u001b[0m \u001b[0mimg\u001b[0m\u001b[0;34m\u001b[0m\u001b[0;34m\u001b[0m\u001b[0m\n\u001b[1;32m     62\u001b[0m \u001b[0;34m\u001b[0m\u001b[0m\n",
            "\u001b[0;32m<ipython-input-91-410a1055d746>\u001b[0m in \u001b[0;36m__call__\u001b[0;34m(self, img)\u001b[0m\n\u001b[1;32m      1\u001b[0m \u001b[0;32mclass\u001b[0m \u001b[0mVisualize\u001b[0m\u001b[0;34m(\u001b[0m\u001b[0mobject\u001b[0m\u001b[0;34m)\u001b[0m\u001b[0;34m:\u001b[0m\u001b[0;34m\u001b[0m\u001b[0;34m\u001b[0m\u001b[0m\n\u001b[1;32m      2\u001b[0m     \u001b[0;32mdef\u001b[0m \u001b[0m__call__\u001b[0m\u001b[0;34m(\u001b[0m\u001b[0mself\u001b[0m\u001b[0;34m,\u001b[0m \u001b[0mimg\u001b[0m\u001b[0;34m)\u001b[0m\u001b[0;34m:\u001b[0m\u001b[0;34m\u001b[0m\u001b[0;34m\u001b[0m\u001b[0m\n\u001b[0;32m----> 3\u001b[0;31m         \u001b[0mcv2_imshow\u001b[0m\u001b[0;34m(\u001b[0m\u001b[0mimg\u001b[0m\u001b[0;34m)\u001b[0m\u001b[0;34m\u001b[0m\u001b[0;34m\u001b[0m\u001b[0m\n\u001b[0m\u001b[1;32m      4\u001b[0m         \u001b[0;32mreturn\u001b[0m \u001b[0mimg\u001b[0m\u001b[0;34m\u001b[0m\u001b[0;34m\u001b[0m\u001b[0m\n\u001b[1;32m      5\u001b[0m \u001b[0;34m\u001b[0m\u001b[0m\n",
            "\u001b[0;32m/usr/local/lib/python3.7/dist-packages/google/colab/patches/__init__.py\u001b[0m in \u001b[0;36mcv2_imshow\u001b[0;34m(a)\u001b[0m\n\u001b[1;32m     20\u001b[0m       \u001b[0mimage\u001b[0m\u001b[0;34m.\u001b[0m\u001b[0;34m\u001b[0m\u001b[0;34m\u001b[0m\u001b[0m\n\u001b[1;32m     21\u001b[0m   \"\"\"\n\u001b[0;32m---> 22\u001b[0;31m   \u001b[0ma\u001b[0m \u001b[0;34m=\u001b[0m \u001b[0ma\u001b[0m\u001b[0;34m.\u001b[0m\u001b[0mclip\u001b[0m\u001b[0;34m(\u001b[0m\u001b[0;36m0\u001b[0m\u001b[0;34m,\u001b[0m \u001b[0;36m255\u001b[0m\u001b[0;34m)\u001b[0m\u001b[0;34m.\u001b[0m\u001b[0mastype\u001b[0m\u001b[0;34m(\u001b[0m\u001b[0;34m'uint8'\u001b[0m\u001b[0;34m)\u001b[0m\u001b[0;34m\u001b[0m\u001b[0;34m\u001b[0m\u001b[0m\n\u001b[0m\u001b[1;32m     23\u001b[0m   \u001b[0;31m# cv2 stores colors as BGR; convert to RGB\u001b[0m\u001b[0;34m\u001b[0m\u001b[0;34m\u001b[0m\u001b[0;34m\u001b[0m\u001b[0m\n\u001b[1;32m     24\u001b[0m   \u001b[0;32mif\u001b[0m \u001b[0ma\u001b[0m\u001b[0;34m.\u001b[0m\u001b[0mndim\u001b[0m \u001b[0;34m==\u001b[0m \u001b[0;36m3\u001b[0m\u001b[0;34m:\u001b[0m\u001b[0;34m\u001b[0m\u001b[0;34m\u001b[0m\u001b[0m\n",
            "\u001b[0;31mAttributeError\u001b[0m: 'Image' object has no attribute 'clip'"
          ]
        }
      ]
    }
  ]
}