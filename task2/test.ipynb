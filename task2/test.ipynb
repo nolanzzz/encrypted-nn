{
 "cells": [
  {
   "cell_type": "code",
   "execution_count": null,
   "id": "defensive-spokesman",
   "metadata": {},
   "outputs": [],
   "source": [
    "import torch\n",
    "import torch.nn as nn\n",
    "from torchvision.transforms import transforms\n",
    "from torch.utils.data import DataLoader\n",
    "from torch.optim import Adam\n",
    "import torchvision\n",
    "import torch.nn.functional as nnfunc"
   ]
  },
  {
   "cell_type": "code",
   "execution_count": null,
   "id": "permanent-highland",
   "metadata": {},
   "outputs": [],
   "source": [
    "classes = ['not_wearing','wearing_eyeglasses','wearing_hat']\n",
    "\n",
    "transformer = transforms.Compose([\n",
    "    transforms.ToTensor(),\n",
    "    transforms.Resize((32,32)),\n",
    "    transforms.Normalize([0.5,0.5,0.5],\n",
    "                        [0.5,0.5,0.5])\n",
    "])\n",
    "\n",
    "test_path = 'data_wearing/test'\n",
    "\n",
    "dataset = torchvision.datasets.ImageFolder(test_path, transform=transformer)\n",
    "\n",
    "dataloader = DataLoader(\n",
    "    dataset,\n",
    "    batch_size = 256,\n",
    "    shuffle = False\n",
    ")"
   ]
  },
  {
   "cell_type": "code",
   "execution_count": null,
   "id": "atlantic-queens",
   "metadata": {},
   "outputs": [],
   "source": [
    "def ResBlock(in_channels, out_channels, pool=False):\n",
    "    layers = []\n",
    "    layers.append(nn.Conv2d(in_channels, out_channels, kernel_size=3, padding=1))\n",
    "    layers.append(nn.BatchNorm2d(out_channels))\n",
    "    layers.append(nn.ReLU(inplace=True))\n",
    "    if pool: \n",
    "        layers.append(nn.MaxPool2d(2))\n",
    "    return nn.Sequential(*layers)\n",
    "\n",
    "class ResNet9(nn.Module):\n",
    "    def __init__(self, in_channels, num_classes):\n",
    "        super().__init__()\n",
    "        self.conv1 = ResBlock(in_channels, 64)\n",
    "        self.conv2 = ResBlock(64, 128, pool=True)\n",
    "        self.res1 = nn.Sequential(ResBlock(128, 128), ResBlock(128, 128))\n",
    "        self.conv3 = ResBlock(128, 256, pool=True)\n",
    "        self.conv4 = ResBlock(256, 512, pool=True)\n",
    "        self.res2 = nn.Sequential(ResBlock(512, 512), ResBlock(512, 512))\n",
    "        self.fc = nn.Sequential(nn.MaxPool2d(4), \n",
    "                                        nn.Flatten(), \n",
    "                                        nn.Dropout(0.2),\n",
    "                                        nn.Linear(512, num_classes))\n",
    "        \n",
    "    def forward(self, x):\n",
    "        out = self.conv1(x)\n",
    "        out = self.conv2(out)\n",
    "        out = self.res1(out) + out\n",
    "        out = self.conv3(out)\n",
    "        out = self.conv4(out)\n",
    "        out = self.res2(out) + out\n",
    "        out = self.fc(out)\n",
    "        return out"
   ]
  },
  {
   "cell_type": "code",
   "execution_count": null,
   "id": "small-harrison",
   "metadata": {},
   "outputs": [],
   "source": [
    "device = torch.device('cuda' if torch.cuda.is_available() else 'cpu')\n",
    "\n",
    "model = ResNet9(3,3)\n",
    "\n",
    "# ResNet18\n",
    "# model = torchvision.models.resnet18(pretrained=False)\n",
    "# inchannel = model.fc.in_features\n",
    "# model.fc = nn.Linear(inchannel, 3)\n",
    "\n",
    "best_model = torch.load('model/task2-resnet9-adam-30.model')\n",
    "model.load_state_dict(best_model, strict=False)\n",
    "model.to(device)\n",
    "count = len(dataset)\n",
    "\n",
    "model.eval()\n",
    "sum_accuracy = 0.0\n",
    "\n",
    "for i, (images, labels) in enumerate(dataloader):\n",
    "    if torch.cuda.is_available():\n",
    "        images = images.to(device)\n",
    "        labels = labels.to(device)\n",
    "    outputs = model(images)\n",
    "    _,prediction = torch.max(outputs.data,1)\n",
    "    sum_accuracy += int(torch.sum(prediction==labels.data))\n",
    "\n",
    "accuracy = sum_accuracy / count\n",
    "\n",
    "print(f'Accuracy: ', accuracy)"
   ]
  }
 ],
 "metadata": {
  "kernelspec": {
   "display_name": "Python 3",
   "language": "python",
   "name": "python3"
  },
  "language_info": {
   "codemirror_mode": {
    "name": "ipython",
    "version": 3
   },
   "file_extension": ".py",
   "mimetype": "text/x-python",
   "name": "python",
   "nbconvert_exporter": "python",
   "pygments_lexer": "ipython3",
   "version": "3.8.8"
  }
 },
 "nbformat": 4,
 "nbformat_minor": 5
}
